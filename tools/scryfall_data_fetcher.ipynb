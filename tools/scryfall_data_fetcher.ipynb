{
 "cells": [
  {
   "cell_type": "code",
   "execution_count": null,
   "metadata": {},
   "outputs": [],
   "source": [
    "!pip install requests pandas"
   ]
  },
  {
   "cell_type": "markdown",
   "metadata": {},
   "source": [
    "# This code below uses the scryfall API to fetch the latest oracle text"
   ]
  },
  {
   "cell_type": "code",
   "execution_count": null,
   "metadata": {},
   "outputs": [],
   "source": [
    "import requests\n",
    "import pandas as pd\n",
    "from datetime import datetime, timedelta\n",
    "\n",
    "# Calculate the date 2 years ago from today\n",
    "two_years_ago = (datetime.now() - timedelta(days=2*365)).strftime(\"%Y-%m-%d\")\n",
    "\n",
    "# Scryfall API endpoint\n",
    "url = f\"https://api.scryfall.com/cards/search\"\n",
    "\n",
    "# Parameters for the API request\n",
    "params = {\n",
    "    \"q\": f\"date>={two_years_ago}\",\n",
    "    \"order\": \"released\",\n",
    "    \"unique\": \"cards\"\n",
    "}\n",
    "\n",
    "# Lists to store the data\n",
    "names = []\n",
    "oracle_texts = []\n",
    "release_dates = []\n",
    "\n",
    "# Paginate through all results\n",
    "while True:\n",
    "    response = requests.get(url, params=params)\n",
    "    data = response.json()\n",
    "    \n",
    "    for card in data['data']:\n",
    "        names.append(card['name'])\n",
    "        oracle_texts.append(card.get('oracle_text', ''))\n",
    "        release_dates.append(card.get('released_at', ''))\n",
    "    \n",
    "    if data['has_more']:\n",
    "        url = data['next_page']\n",
    "    else:\n",
    "        break\n",
    "\n",
    "# Create a DataFrame with the collected data\n",
    "df = pd.DataFrame({\n",
    "    'Name': names,\n",
    "    'Oracle Text': oracle_texts,\n",
    "    'Release Date': release_dates\n",
    "})\n",
    "\n",
    "# Display the first few rows of the DataFrame\n",
    "print(df.head())\n",
    "\n",
    "# Save the DataFrame to a CSV file\n",
    "print(df)\n",
    "# df.to_csv('scryfall_oracle_text_last_2_years.csv', index=False)\n",
    "# print(\"Data saved to 'scryfall_oracle_text_last_2_years.csv'\")"
   ]
  },
  {
   "cell_type": "code",
   "execution_count": null,
   "metadata": {},
   "outputs": [],
   "source": [
    "# Sort the DataFrame by Release Date in descending order (most recent first)\n",
    "df_sorted = df.sort_values('Release Date', ascending=False)\n",
    "\n",
    "# Select the 1000 most recent cards\n",
    "recent_1000 = df_sorted.head(1000)\n",
    "\n",
    "# Print the Oracle text for these cards\n",
    "for index, row in recent_1000.iterrows():\n",
    "    print(f\" {row['Oracle Text']}\\n\\n\")"
   ]
  }
 ],
 "metadata": {
  "kernelspec": {
   "display_name": "Python 3",
   "language": "python",
   "name": "python3"
  },
  "language_info": {
   "codemirror_mode": {
    "name": "ipython",
    "version": 3
   },
   "file_extension": ".py",
   "mimetype": "text/x-python",
   "name": "python",
   "nbconvert_exporter": "python",
   "pygments_lexer": "ipython3",
   "version": "3.12.4"
  }
 },
 "nbformat": 4,
 "nbformat_minor": 2
}
